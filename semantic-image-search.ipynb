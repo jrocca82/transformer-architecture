{
 "cells": [
  {
   "cell_type": "markdown",
   "metadata": {},
   "source": [
    "## Plan:\n",
    "1. Choose a text-image model, preferably one with multiple size variants that can be switched out\n",
    "2. Find 700-100 photos and put in folder\n",
    "3. Write loop to create embeddings of photos\n",
    "    - Read photos from disk\n",
    "    - Crop (i.e. torchvision.transforms or built-in preprocessor from model, if exists)\n",
    "    - Create batch (i.e. DataLoader)\n",
    "    - Run each batch of images through model, using inference mode\n",
    "    - Get embeddings and save to disk (convert to numpy arrays). Also save path to original photos for retrieval\n",
    "4. Write a function which recieves input prompt\n",
    "    - generate embedding of prompt\n",
    "    - compute cosine similarity with prompt and all image embeddings (matmul)\n",
    "    - sort outputs and select the top ones\n",
    "    - find images with tops scores and visualise them"
   ]
  }
 ],
 "metadata": {
  "language_info": {
   "name": "python"
  }
 },
 "nbformat": 4,
 "nbformat_minor": 2
}
