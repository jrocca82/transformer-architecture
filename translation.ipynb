{
 "cells": [
  {
   "cell_type": "code",
   "execution_count": 1,
   "metadata": {},
   "outputs": [],
   "source": [
    "from transformers import AutoTokenizer, AutoModelForCausalLM, set_seed\n",
    "import torch"
   ]
  },
  {
   "cell_type": "code",
   "execution_count": 15,
   "metadata": {},
   "outputs": [],
   "source": [
    "prompt = \"It was a dark and stormy\"\n",
    "qwen = \"Qwen/Qwen2-0.5B\"\n",
    "gpt = \"openai-community/gpt2\"\n",
    "smol = \"HuggingFaceTB/SmolLM-135M\"\n",
    "tokenizer = AutoTokenizer.from_pretrained(qwen)\n",
    "model = AutoModelForCausalLM.from_pretrained(qwen)\n",
    "set_seed(70)"
   ]
  },
  {
   "cell_type": "code",
   "execution_count": 16,
   "metadata": {},
   "outputs": [],
   "source": [
    "prompt = \"\"\"\\\n",
    "Translate Spanish to English:\n",
    "\n",
    "English: I do not speak Spanish\n",
    "Spanish: No hablo español\n",
    "\n",
    "English: See you later\n",
    "Spanish: Hasta luego\n",
    "\n",
    "English: Where is a good restaurant?\n",
    "Spanish: Dónde hay un buen restaurante?\n",
    "\n",
    "English: What rooms do you have available?\n",
    "Spanish: Qué habitaciones tienes disponsibles?\n",
    "\n",
    "English: I like soccer\n",
    "Spanish:\n",
    "\"\"\""
   ]
  },
  {
   "cell_type": "code",
   "execution_count": 17,
   "metadata": {},
   "outputs": [
    {
     "name": "stderr",
     "output_type": "stream",
     "text": [
      "The attention mask and the pad token id were not set. As a consequence, you may observe unexpected behavior. Please pass your input's `attention_mask` to obtain reliable results.\n",
      "Setting `pad_token_id` to `eos_token_id`:151643 for open-end generation.\n"
     ]
    }
   ],
   "source": [
    "inputs = tokenizer(prompt, return_tensors=\"pt\").input_ids\n",
    "output = model.generate(inputs, max_new_tokens=10)"
   ]
  },
  {
   "cell_type": "code",
   "execution_count": 18,
   "metadata": {},
   "outputs": [
    {
     "name": "stdout",
     "output_type": "stream",
     "text": [
      "Translate Spanish to English:\n",
      "\n",
      "English: I do not speak Spanish\n",
      "Spanish: No hablo español\n",
      "\n",
      "English: See you later\n",
      "Spanish: Hasta luego\n",
      "\n",
      "English: Where is a good restaurant?\n",
      "Spanish: Dónde hay un buen restaurante?\n",
      "\n",
      "English: What rooms do you have available?\n",
      "Spanish: Qué habitaciones tienes disponsibles?\n",
      "\n",
      "English: I like soccer\n",
      "Spanish:\n",
      "English: Me gusta el fútbol\n",
      "\n"
     ]
    }
   ],
   "source": [
    "print(tokenizer.decode(output[0]))"
   ]
  },
  {
   "cell_type": "code",
   "execution_count": null,
   "metadata": {},
   "outputs": [],
   "source": []
  }
 ],
 "metadata": {
  "kernelspec": {
   "display_name": ".venv",
   "language": "python",
   "name": "python3"
  },
  "language_info": {
   "codemirror_mode": {
    "name": "ipython",
    "version": 3
   },
   "file_extension": ".py",
   "mimetype": "text/x-python",
   "name": "python",
   "nbconvert_exporter": "python",
   "pygments_lexer": "ipython3",
   "version": "3.10.16"
  }
 },
 "nbformat": 4,
 "nbformat_minor": 2
}
