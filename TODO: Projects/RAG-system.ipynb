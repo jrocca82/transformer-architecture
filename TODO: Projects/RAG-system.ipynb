{
 "cells": [
  {
   "cell_type": "markdown",
   "metadata": {},
   "source": [
    "## Goal:\n",
    "Build a RAG system\n",
    "\n",
    "## Pipeline:\n",
    "1. User inputs a question\n",
    "2. Pipeline retrieves documents similar to question\n",
    "3. Pipeline passes question and retrieved documents to LLM\n",
    "4. Pipeline generates response\n",
    "\n",
    "## Plan\n",
    "1. Create document embeddings using sentence_transformers\n",
    "def embed_documents(docuemnts: Lists[str]):\n",
    "    - Use sentence transformer to encode\n",
    "    - Store somewhere\n",
    "2. Retrieve documents\n",
    "def retrieve_documents(query: str):\n",
    "    - Use stored documents to retrieve similar docs to query\n",
    "3. Generate response (LLM)\n",
    "def generate_response(query: str, documents: Lists[str]):\n",
    "    - Use LLM\n",
    "4. Create Pipeline\n",
    "pipeline(query: str):\n",
    "    documents = retrieve_documents(query)\n",
    "    response = generate_response(query, documents)\n",
    "    return response\n",
    "\n",
    "## Documents to Use\n",
    "5-10 sentences or paragraphs to start, then can scale up"
   ]
  },
  {
   "cell_type": "markdown",
   "metadata": {},
   "source": [
    "Answer in Appendix C of genai book"
   ]
  },
  {
   "cell_type": "markdown",
   "metadata": {},
   "source": []
  }
 ],
 "metadata": {
  "language_info": {
   "name": "python"
  }
 },
 "nbformat": 4,
 "nbformat_minor": 2
}
