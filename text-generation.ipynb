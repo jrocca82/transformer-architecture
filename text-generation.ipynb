{
 "cells": [
  {
   "cell_type": "code",
   "execution_count": 2,
   "metadata": {},
   "outputs": [],
   "source": [
    "from transformers import pipeline, AutoTokenizer, AutoModelForCausalLM, set_seed\n",
    "import torch\n",
    "from genaibook.core import get_device"
   ]
  },
  {
   "cell_type": "code",
   "execution_count": 4,
   "metadata": {},
   "outputs": [],
   "source": [
    "device = get_device()\n",
    "qwen = \"Qwen/Qwen2-0.5B\"\n",
    "gpt = \"openai-community/gpt2\"\n",
    "smol = \"HuggingFaceTB/SmolLM-135M\""
   ]
  },
  {
   "cell_type": "code",
   "execution_count": 8,
   "metadata": {},
   "outputs": [],
   "source": [
    "prompt = \"this is real, this is me, I'm exactly\"\n",
    "tokenizer = AutoTokenizer.from_pretrained(qwen)\n",
    "model = AutoModelForCausalLM.from_pretrained(qwen)\n",
    "input_ids = tokenizer(prompt, return_tensors=\"pt\").input_ids"
   ]
  },
  {
   "cell_type": "code",
   "execution_count": 22,
   "metadata": {},
   "outputs": [],
   "source": [
    "def generate(model, tokenizer, input_ids, max_length=50, do_sample=False, top_k=10):\n",
    "    for _ in range(max_length):\n",
    "        final_logits = model(input_ids).logits[0, -1]\n",
    "\n",
    "        if do_sample: \n",
    "            probs = torch.softmax(final_logits, dim=-1)\n",
    "            topk_probs, topk_indices = torch.topk(probs, top_k)\n",
    "            next_token = topk_indices[torch.multinomial(topk_probs, 1)]\n",
    "        else:\n",
    "            next_token = final_logits.argmax()\n",
    "            \n",
    "        input_ids = torch.cat([input_ids, next_token.view(1, 1)], dim=1)\n",
    "\n",
    "    return tokenizer.decode(input_ids[0])\n",
    "    \n"
   ]
  },
  {
   "cell_type": "code",
   "execution_count": 18,
   "metadata": {},
   "outputs": [
    {
     "data": {
      "text/plain": [
       "\"this is real, this is me, I'm exactly like you. I'm a 24 year old girl who has been married for 10 years. I'm a single mom of 2 boys. I'm a single mom of 2 boys. I'm a single mom of 2\""
      ]
     },
     "execution_count": 18,
     "metadata": {},
     "output_type": "execute_result"
    }
   ],
   "source": [
    "generate(model, tokenizer, input_ids)"
   ]
  },
  {
   "cell_type": "code",
   "execution_count": 23,
   "metadata": {},
   "outputs": [
    {
     "data": {
      "text/plain": [
       "\"this is real, this is me, I'm exactly like you. I've been on this journey for years now. And now I'm sharing all of my journey with you! I've had my fair share of ups and downs, but the journey is worth going through. I don't think I've\""
      ]
     },
     "execution_count": 23,
     "metadata": {},
     "output_type": "execute_result"
    }
   ],
   "source": [
    "generate(model, tokenizer, input_ids, do_sample=True)"
   ]
  },
  {
   "cell_type": "code",
   "execution_count": null,
   "metadata": {},
   "outputs": [],
   "source": []
  }
 ],
 "metadata": {
  "kernelspec": {
   "display_name": ".venv",
   "language": "python",
   "name": "python3"
  },
  "language_info": {
   "codemirror_mode": {
    "name": "ipython",
    "version": 3
   },
   "file_extension": ".py",
   "mimetype": "text/x-python",
   "name": "python",
   "nbconvert_exporter": "python",
   "pygments_lexer": "ipython3",
   "version": "3.10.16"
  }
 },
 "nbformat": 4,
 "nbformat_minor": 2
}
